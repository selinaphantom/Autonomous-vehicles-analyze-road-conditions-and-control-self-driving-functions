{
 "cells": [
  {
   "cell_type": "code",
   "execution_count": 1,
   "id": "residential-shift",
   "metadata": {},
   "outputs": [],
   "source": [
    "import os\n",
    "import time\n",
    "import pycuda.autoinit\n",
    "\n",
    "from utils.yolo_classes import get_cls_dict\n",
    "from utils.display import open_window, set_display, show_fps\n",
    "from utils.visualization import BBoxVisualization\n",
    "from utils.yolo import TRT_YOLO\n",
    "\n",
    "trt_yolo = TRT_YOLO(\"yolov4-tiny-416\",(416,416),5)"
   ]
  },
  {
   "cell_type": "code",
   "execution_count": null,
   "id": "signed-notion",
   "metadata": {},
   "outputs": [
    {
     "name": "stdout",
     "output_type": "stream",
     "text": [
      "[2.]\n"
     ]
    },
    {
     "data": {
      "text/plain": [
       "<matplotlib.image.AxesImage at 0x7f498f29e8>"
      ]
     },
     "execution_count": 2,
     "metadata": {},
     "output_type": "execute_result"
    }
   ],
   "source": [
    "import cv2\n",
    "from matplotlib.pyplot import imshow\n",
    "%matplotlib inline\n",
    "\n",
    "img = cv2.imread('3.jpg')\n",
    "\n",
    "boxes, confs, clss = trt_yolo.detect(img,0.3)\n",
    "for i in range(len(clss)):\n",
    "    cv2.rectangle(img,(boxes[i][0],boxes[i][1]),(boxes[i][2],boxes[i][3]),(0,0,255),5)\n",
    "print(clss)\n",
    "img = cv2.cvtColor(img,cv2.COLOR_BGR2RGB)\n",
    "imshow(img)"
   ]
  },
  {
   "cell_type": "code",
   "execution_count": null,
   "id": "numeric-position",
   "metadata": {},
   "outputs": [],
   "source": [
    "camera.start()"
   ]
  },
  {
   "cell_type": "code",
   "execution_count": null,
   "id": "positive-settle",
   "metadata": {},
   "outputs": [],
   "source": []
  },
  {
   "cell_type": "code",
   "execution_count": 3,
   "id": "demonstrated-shark",
   "metadata": {},
   "outputs": [],
   "source": [
    "import traitlets\n",
    "from IPython.display import display\n",
    "\n",
    "import ipywidgets.widgets as widgets\n",
    "from jetbot import Camera\n",
    "from jetbot import Camera, bgr8_to_jpeg\n",
    "from jetbot import Robot\n",
    "#from jetcam.usb_camera import USBCamera\n",
    "#from jetcam.utils import bgr8_to_jpeg\n",
    "\n",
    "camera = Camera.instance(width=416,height=416)\n",
    "image = widgets.Image(format='jpeg',width=224,height=224)\n",
    "camera_link = traitlets.dlink((camera,'value'),(image,'value'),transform = bgr8_to_jpeg)\n",
    "robot = Robot()"
   ]
  },
  {
   "cell_type": "code",
   "execution_count": 4,
   "id": "departmental-fishing",
   "metadata": {},
   "outputs": [
    {
     "data": {
      "application/vnd.jupyter.widget-view+json": {
       "model_id": "383fe9962b444e7aae6d226a67e04299",
       "version_major": 2,
       "version_minor": 0
      },
      "text/plain": [
       "Image(value=b'\\xff\\xd8\\xff\\xe0\\x00\\x10JFIF\\x00\\x01\\x01\\x00\\x00\\x01\\x00\\x01\\x00\\x00\\xff\\xdb\\x00C\\x00\\x02\\x01\\x0…"
      ]
     },
     "metadata": {},
     "output_type": "display_data"
    }
   ],
   "source": [
    "display(image)"
   ]
  },
  {
   "cell_type": "code",
   "execution_count": 5,
   "id": "integrated-prayer",
   "metadata": {},
   "outputs": [],
   "source": [
    "def modifySpeed(origin_road):\n",
    "    global speed_left,speed_right,speed\n",
    "    \n",
    "    averaged_lines = getAverageLines(origin_road)\n",
    "    \n",
    "    if averaged_lines is not None:\n",
    "        mid_x = int(np.average(averaged_lines , axis =0)[2])\n",
    "            \n",
    "        if mid_x < 315:\n",
    "            speed_left = speed\n",
    "            speed_right = speed + 0.03\n",
    "        elif mid_x > 325:\n",
    "            speed_left = speed\n",
    "            speed_right = speed + 0.03\n",
    "        else:\n",
    "            speed_left = speed +0.01\n",
    "            speed_right = speed"
   ]
  },
  {
   "cell_type": "code",
   "execution_count": 6,
   "id": "nonprofit-science",
   "metadata": {},
   "outputs": [],
   "source": [
    "import time\n",
    "\n",
    "stop_ignore = 0\n",
    "railway_ignore = 0\n",
    "count = 0\n",
    "\n",
    "def getNearest(signs):\n",
    "    if not len(signs):\n",
    "        return [0,3]\n",
    "    t = time.time()\n",
    "    \n",
    "    if signs[0][1] == 4 and (t>railway_ignore)\\\n",
    "        or signs[0][1] in [0,1,2,3]:\n",
    "            return signs[0]\n",
    "    return getNearest(signs[1:]) if len(signs) >= 2 else [0,3]\n",
    "\n",
    "def getConfs(signs, confs):\n",
    "    if not len(signs):\n",
    "        return [0, 5]\n",
    "    \n",
    "    return signs[confs.tolist().index(max(confs.tolist()))]"
   ]
  },
  {
   "cell_type": "code",
   "execution_count": 64,
   "id": "passive-colors",
   "metadata": {},
   "outputs": [],
   "source": [
    "def update(change):\n",
    "    global robot ,count,speed_left,speed_right,stop_ingore,railway_ingore,stop,trigger\n",
    "    ALERT_WIDTH = 50\n",
    "    img = change['new']\n",
    "    #modifySpeed(img)\n",
    "    \n",
    "    if count < 10:\n",
    "        count += 1\n",
    "        return\n",
    "    else:\n",
    "        count = 0\n",
    "    boxes,confs,clss = trt_yolo.detect(img,0.3)\n",
    "    \n",
    "    signs = []\n",
    "    for box,cls in zip(boxes,clss):\n",
    "        width = box[2] - box[0]\n",
    "        signs.append([width,cls])\n",
    "    signs.sort(reverse=True,key = lambda x :x[0])\n",
    "    sign = getNearest(signs)\n",
    "    #sign = getConfs(signs, confs)\n",
    "    \n",
    "    t = time.time()\n",
    "    if sign[1] == 3 and statu[0] == True :\n",
    "        trigger[0] = True\n",
    "        statu[0] = False\n",
    "        robot.set_motors(speed_left * 1.5,speed_right*1.5)\n",
    "        time.sleep(1)\n",
    "        robot.set_motors(speed_left,speed_right)\n",
    "    elif sign[1] == 1 and statu[1] == True:\n",
    "        trigger[0] = True\n",
    "        robot.set_motors(speed_left * 0.5,speed_right*0.5)\n",
    "        statu[1] = False\n",
    "        time.sleep(1)\n",
    "        robot.set_motors(speed_left,speed_right)\n",
    "    elif sign[1] == 2 and statu[2] == True:\n",
    "        trigger[0] = True\n",
    "        robot.set_motors(speed_left * 0.8,speed_right*-0.8)\n",
    "        time.sleep(1)\n",
    "        robot.set_motors(speed_left ,speed_right)\n",
    "        statu[2] = False\n",
    "        \n",
    "    if sign[1] == 0  and statu[3] == True:\n",
    "        robot.stop()\n",
    "        stop = False\n",
    "        statu[3] = False\n",
    "    elif sign[1] == 4 and statu[4] == True:\n",
    "        trigger[3] = True\n",
    "        robot.stop()\n",
    "        time.sleep(5)\n",
    "        robot.set_motors(speed_left,speed_right)\n",
    "        statu[4] = False\n",
    "    else:\n",
    "        robot.set_motors(speed_left,speed_right)"
   ]
  },
  {
   "cell_type": "code",
   "execution_count": null,
   "id": "happy-iceland",
   "metadata": {},
   "outputs": [],
   "source": [
    "trigger = [False for i in range(4)]\n",
    "speed = speed_left =0.174\n",
    "speed_right = 0.16\n",
    "stop = True\n",
    "statu = [True,True,True,True,True]\n",
    "\n",
    "robot.set_motors(speed_left,speed_right)\n",
    "while(stop):\n",
    "    update({'new':camera.value})"
   ]
  },
  {
   "cell_type": "code",
   "execution_count": 70,
   "id": "selective-platinum",
   "metadata": {},
   "outputs": [],
   "source": [
    "from jetbot import Robot\n",
    "speed = speed_left = speed_right = 0\n",
    "robot = Robot()\n",
    "robot.stop()"
   ]
  },
  {
   "cell_type": "code",
   "execution_count": 71,
   "id": "sensitive-plaza",
   "metadata": {},
   "outputs": [],
   "source": [
    "camera_link.unlink()\n",
    "camera.stop()"
   ]
  },
  {
   "cell_type": "code",
   "execution_count": null,
   "id": "saving-central",
   "metadata": {},
   "outputs": [],
   "source": [
    "robot.stop()"
   ]
  },
  {
   "cell_type": "code",
   "execution_count": null,
   "id": "dress-original",
   "metadata": {},
   "outputs": [],
   "source": [
    "stop=False"
   ]
  },
  {
   "cell_type": "code",
   "execution_count": null,
   "id": "invalid-pickup",
   "metadata": {},
   "outputs": [],
   "source": [
    "img = camera.value\n",
    "boxes,confs,clss = trt_yolo.detect(img,0.3)\n",
    "\n",
    "averaged_lines = getAverageLines(img)[0]\n",
    "if averaged_lines is not None:\n",
    "    for x1,y1,x2,y2 in averaged_lines:\n",
    "        cv2.line(img,(int(x1/640*224),int(y1/480*224)),(int(x2/640*224),int(y2/480*224)),(0,0,255),5)\n",
    "    mid_x = int(np.average(averaged_lines , axis =0)[2])\n",
    "    cv2.line(img,(int(mid_x/640*224),100),(int(mid_x/640*224),105),(0,255,0),2)\n",
    "    print(\"mid: \",mid_x)\n",
    "for i in range(len(clss)):\n",
    "    cv2.rectangle(img,(boxes[i][0],boxes[i][1]),(boxes[i][2],boxes[i][3]),(0,0,255),1)\n",
    "img = cv2.cvtColor(img,cv2.COLOR_BGR2RGB)\n",
    "imshow(img)"
   ]
  },
  {
   "cell_type": "code",
   "execution_count": null,
   "id": "powered-reform",
   "metadata": {},
   "outputs": [],
   "source": []
  }
 ],
 "metadata": {
  "kernelspec": {
   "display_name": "Python 3",
   "language": "python",
   "name": "python3"
  },
  "language_info": {
   "codemirror_mode": {
    "name": "ipython",
    "version": 3
   },
   "file_extension": ".py",
   "mimetype": "text/x-python",
   "name": "python",
   "nbconvert_exporter": "python",
   "pygments_lexer": "ipython3",
   "version": "3.6.9"
  }
 },
 "nbformat": 4,
 "nbformat_minor": 5
}
